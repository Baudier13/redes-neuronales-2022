{
  "nbformat": 4,
  "nbformat_minor": 0,
  "metadata": {
    "colab": {
      "provenance": [],
      "collapsed_sections": [
        "e5ddPvOF9KdG",
        "2iSXiPew9XOZ",
        "Adc_7Ee29EpE",
        "bmHmMiAboqzs",
        "W4HxPu2-9Q68"
      ],
      "include_colab_link": true
    },
    "kernelspec": {
      "name": "python3",
      "display_name": "Python 3"
    },
    "language_info": {
      "name": "python"
    }
  },
  "cells": [
    {
      "cell_type": "markdown",
      "metadata": {
        "id": "view-in-github",
        "colab_type": "text"
      },
      "source": [
        "<a href=\"https://colab.research.google.com/github/Baudier13/redes-neuronales-2022/blob/master/practico_1.ipynb\" target=\"_parent\"><img src=\"https://colab.research.google.com/assets/colab-badge.svg\" alt=\"Open In Colab\"/></a>"
      ]
    },
    {
      "cell_type": "markdown",
      "source": [
        "# Familiarizandose con **Google Colab**\n",
        "\n",
        "## **Ejercicio 1)** Importando librerías\n",
        "\n",
        "Importe las librerías `numpy` para operar con arrays y `matplotlib.pyplot` para graficar."
      ],
      "metadata": {
        "id": "NRYEofSD0xoF"
      }
    },
    {
      "cell_type": "code",
      "source": [
        "import numpy as np\n",
        "import matplotlib.pyplot as plt"
      ],
      "metadata": {
        "id": "I8N3D_nU1_oT"
      },
      "execution_count": 2,
      "outputs": []
    },
    {
      "cell_type": "markdown",
      "source": [
        "## **Ejercicio 2)** Practicando instrucciones básicas\n",
        "\n",
        "**a)** Ingrese un comentario\n",
        "\n",
        "**b)** Implemente una suma, una multiplicación y una división entera.\n",
        "\n",
        "**c)** Repita con números flotantes.\n",
        "\n",
        "**d)** Ingrese un string.\n",
        "\n",
        "**e)** Ingrese un docstring.\n",
        "\n",
        "**f)** Concatene dos strings."
      ],
      "metadata": {
        "id": "NcaGEHAd10sb"
      }
    },
    {
      "cell_type": "code",
      "source": [
        "# 2.a) esto es un comentario"
      ],
      "metadata": {
        "id": "tntEwNvE4SZC"
      },
      "execution_count": 3,
      "outputs": []
    },
    {
      "cell_type": "code",
      "source": [
        "# 2.b)\n",
        "1+1"
      ],
      "metadata": {
        "colab": {
          "base_uri": "https://localhost:8080/"
        },
        "id": "zSN2CcQ33N5D",
        "outputId": "44f1662d-5cc8-4ebd-dc83-2f387b97df90"
      },
      "execution_count": 4,
      "outputs": [
        {
          "output_type": "execute_result",
          "data": {
            "text/plain": [
              "2"
            ]
          },
          "metadata": {},
          "execution_count": 4
        }
      ]
    },
    {
      "cell_type": "code",
      "source": [
        "2*3"
      ],
      "metadata": {
        "colab": {
          "base_uri": "https://localhost:8080/"
        },
        "id": "lQXJPohS0AVe",
        "outputId": "d701e3e6-040e-4f17-b311-95137a0c2d5f"
      },
      "execution_count": 5,
      "outputs": [
        {
          "output_type": "execute_result",
          "data": {
            "text/plain": [
              "6"
            ]
          },
          "metadata": {},
          "execution_count": 5
        }
      ]
    },
    {
      "cell_type": "code",
      "source": [
        "5//2"
      ],
      "metadata": {
        "colab": {
          "base_uri": "https://localhost:8080/"
        },
        "id": "6uy57Ozi0Csb",
        "outputId": "38f975bb-cfb2-4f08-e912-43cf9349918d"
      },
      "execution_count": 6,
      "outputs": [
        {
          "output_type": "execute_result",
          "data": {
            "text/plain": [
              "2"
            ]
          },
          "metadata": {},
          "execution_count": 6
        }
      ]
    },
    {
      "cell_type": "code",
      "source": [
        "# 2.c)\n",
        "1.5 + 1"
      ],
      "metadata": {
        "colab": {
          "base_uri": "https://localhost:8080/"
        },
        "id": "wLPMnQ9v0Lc4",
        "outputId": "20822da7-efe0-458f-f19b-c63e430c5b39"
      },
      "execution_count": 7,
      "outputs": [
        {
          "output_type": "execute_result",
          "data": {
            "text/plain": [
              "2.5"
            ]
          },
          "metadata": {},
          "execution_count": 7
        }
      ]
    },
    {
      "cell_type": "code",
      "source": [
        "2. * 5"
      ],
      "metadata": {
        "colab": {
          "base_uri": "https://localhost:8080/"
        },
        "id": "U2MIhHha0al5",
        "outputId": "c40680bc-69ce-4260-9883-bf3ac4e6ea00"
      },
      "execution_count": 8,
      "outputs": [
        {
          "output_type": "execute_result",
          "data": {
            "text/plain": [
              "10.0"
            ]
          },
          "metadata": {},
          "execution_count": 8
        }
      ]
    },
    {
      "cell_type": "code",
      "source": [
        "5 / 2"
      ],
      "metadata": {
        "colab": {
          "base_uri": "https://localhost:8080/"
        },
        "id": "JEeWLeMG0daE",
        "outputId": "80a177a5-e0cc-403f-873d-df5ef485bad9"
      },
      "execution_count": 9,
      "outputs": [
        {
          "output_type": "execute_result",
          "data": {
            "text/plain": [
              "2.5"
            ]
          },
          "metadata": {},
          "execution_count": 9
        }
      ]
    },
    {
      "cell_type": "code",
      "source": [
        "# 2.d)\n",
        "\"hola mundo\""
      ],
      "metadata": {
        "colab": {
          "base_uri": "https://localhost:8080/",
          "height": 35
        },
        "id": "j3wviOJv0mOo",
        "outputId": "33caf1fa-1555-48fb-c110-e11ffdb50553"
      },
      "execution_count": 10,
      "outputs": [
        {
          "output_type": "execute_result",
          "data": {
            "text/plain": [
              "'hola mundo'"
            ],
            "application/vnd.google.colaboratory.intrinsic+json": {
              "type": "string"
            }
          },
          "metadata": {},
          "execution_count": 10
        }
      ]
    },
    {
      "cell_type": "code",
      "source": [
        "# 2.e)\n",
        "\"\"\"Estimado\n",
        "\n",
        "le escribo...\n",
        "\n",
        "Saludos,\n",
        "Juan\"\"\""
      ],
      "metadata": {
        "colab": {
          "base_uri": "https://localhost:8080/",
          "height": 35
        },
        "id": "7g1p-Cfe0rJv",
        "outputId": "8d73e18e-3784-40e2-b4ef-b137a5038e09"
      },
      "execution_count": 11,
      "outputs": [
        {
          "output_type": "execute_result",
          "data": {
            "text/plain": [
              "'Estimado\\n\\nle escribo...\\n\\nSaludos,\\nJuan'"
            ],
            "application/vnd.google.colaboratory.intrinsic+json": {
              "type": "string"
            }
          },
          "metadata": {},
          "execution_count": 11
        }
      ]
    },
    {
      "cell_type": "code",
      "source": [
        "# 2.f)\n",
        "\"hola\" + \" \" + \"mundo\" + \"   \" + \"otras plabras\""
      ],
      "metadata": {
        "colab": {
          "base_uri": "https://localhost:8080/",
          "height": 35
        },
        "id": "3CSrXZR11BIT",
        "outputId": "d6b457f5-e85f-460e-c3c6-732785b0e68b"
      },
      "execution_count": 12,
      "outputs": [
        {
          "output_type": "execute_result",
          "data": {
            "text/plain": [
              "'hola mundo   otras plabras'"
            ],
            "application/vnd.google.colaboratory.intrinsic+json": {
              "type": "string"
            }
          },
          "metadata": {},
          "execution_count": 12
        }
      ]
    },
    {
      "cell_type": "markdown",
      "source": [
        "## **Ejercicio 3)** Practicando con variables\n",
        "\n",
        "**a)** Inicialize una variable `x` con el valor `3`\n",
        "\n",
        "**b)** Evalue la variable `x`.\n",
        "\n",
        "**c)** Inicialize otra variable `y` con el valor `4` y evalue la suma de `x` con `y`.\n",
        "\n",
        "**d)** Inicialize otra variable `z` con el resultado de evaluar `x*(2+y)`. Luego, evalúe `z`.\n",
        "\n",
        "**e)** Inicialize una variable `s1` con el string `\"hola\"` y otra `s2` con el string  `\"mundo\"`.\n",
        "\n",
        "**f)** Inicialize otra variable `s` con el resultado de concatenar `s1` con `s2`. Luego, evalùe `s`."
      ],
      "metadata": {
        "id": "z9AlDWS02Xrm"
      }
    },
    {
      "cell_type": "code",
      "source": [
        "# 3.a)\n",
        "x = 3"
      ],
      "metadata": {
        "id": "7RZp9Wq_5c5o"
      },
      "execution_count": 13,
      "outputs": []
    },
    {
      "cell_type": "code",
      "source": [
        "# 3.b)\n",
        "x"
      ],
      "metadata": {
        "colab": {
          "base_uri": "https://localhost:8080/"
        },
        "id": "9cDO2G3e5lU_",
        "outputId": "00531032-c4c5-4155-a4cd-d60d10b4e511"
      },
      "execution_count": 14,
      "outputs": [
        {
          "output_type": "execute_result",
          "data": {
            "text/plain": [
              "3"
            ]
          },
          "metadata": {},
          "execution_count": 14
        }
      ]
    },
    {
      "cell_type": "code",
      "source": [
        "# 3.c)\n",
        "y = 4\n",
        "x + y"
      ],
      "metadata": {
        "colab": {
          "base_uri": "https://localhost:8080/"
        },
        "id": "e4i-7IHI1ph6",
        "outputId": "d708f947-661b-4268-81d9-93b08034914d"
      },
      "execution_count": 15,
      "outputs": [
        {
          "output_type": "execute_result",
          "data": {
            "text/plain": [
              "7"
            ]
          },
          "metadata": {},
          "execution_count": 15
        }
      ]
    },
    {
      "cell_type": "markdown",
      "source": [
        "## **Ejercicio 4)** Practicando igualdades y desigualdades\n",
        "\n",
        "**a)** Evalúe `1 == 1`.\n",
        "\n",
        "**b)** Evalúe `1 == 2`.\n",
        "\n",
        "**c)** Evalúe `1 != 1`.\n",
        "\n",
        "**d)** Evalúe `1 != 2`.\n",
        "\n",
        "**e)** Evalúe `\"hola\" == \"hola\"`.\n",
        "\n",
        "**f)** Evalúe `\"hola\" != \"hola\"`.\n",
        "\n",
        "**g)** Evalúe `\"hola\" == \"mundo\"`.\n",
        "\n",
        "**h)** Evalúe `\"hola\" != \"mundo\"`.\n",
        "\n",
        "**i)** Evalúe `True == True`.\n",
        "\n",
        "**j)** Evalúe `False == True`.\n",
        "\n",
        "**k)** Evalúe `False != True`.\n",
        "\n",
        "**l)** Evalúe `False == False`.\n",
        "\n",
        "**l)** Evalúe `1 < 2`.\n",
        "\n",
        "**l)** Evalúe `1 > 2`.\n",
        "\n",
        "**m)** Evalúe `1 <= 2`.\n",
        "\n",
        "**n)** Evalúe `1 >= 2`."
      ],
      "metadata": {
        "id": "1q4dmsnN2Z_A"
      }
    },
    {
      "cell_type": "code",
      "source": [
        "# 4.a)\n",
        "1 == 1"
      ],
      "metadata": {
        "colab": {
          "base_uri": "https://localhost:8080/"
        },
        "id": "pzU9Y1PB6vxq",
        "outputId": "232121cf-560f-4b9b-982f-971ae41e45b4"
      },
      "execution_count": 16,
      "outputs": [
        {
          "output_type": "execute_result",
          "data": {
            "text/plain": [
              "True"
            ]
          },
          "metadata": {},
          "execution_count": 16
        }
      ]
    },
    {
      "cell_type": "markdown",
      "source": [
        "## **Ejercicio 5)** Practicando con la función `print`.\n",
        "\n",
        "**a)** Imprima un número.\n",
        "\n",
        "**b)** Imprima un string.\n",
        "\n",
        "**c)** Imprima dos números.\n",
        "\n",
        "**d)** Imprima dos strings.\n",
        "\n",
        "**e)** Imprima dos strings con separador vacío.\n",
        "\n",
        "**f)** Imprima un número y un string."
      ],
      "metadata": {
        "id": "K3Oh_Sne7f-p"
      }
    },
    {
      "cell_type": "code",
      "source": [
        "# 5.a)\n",
        "print(1)"
      ],
      "metadata": {
        "colab": {
          "base_uri": "https://localhost:8080/"
        },
        "id": "JiKAmQxT7sMJ",
        "outputId": "1e31f312-3c7e-49ba-9e3f-462383e7da11"
      },
      "execution_count": 17,
      "outputs": [
        {
          "output_type": "stream",
          "name": "stdout",
          "text": [
            "1\n"
          ]
        }
      ]
    },
    {
      "cell_type": "markdown",
      "source": [
        "## **Ejercicio 6)** Practicando con condicionales `if`, `else` y `elif`\n",
        "\n",
        "**a)** Imprime algo el siguiente código?\n",
        "\n",
        "      if 1 == 1:\n",
        "          print(\"hola\")\n",
        "\n",
        "**b)** Y el siguiente código?\n",
        "\n",
        "      if 1 != 1:\n",
        "          print(\"hola\")\n",
        "\n",
        "**c)** Que imprime el siguiente código?\n",
        "\n",
        "      if 1 == 2:\n",
        "          print(\"hola\")\n",
        "      else:\n",
        "          print(\"mundo\")\n",
        "\n",
        "**d)** Que imprime el siguiente código?\n",
        "\n",
        "      if 1 == 2:\n",
        "          print(\"hola\")\n",
        "      elif 1 < 2:\n",
        "          print(\"mundo\")\n",
        "      else:\n",
        "          print(\"argentina\")"
      ],
      "metadata": {
        "id": "B6wbgSO87aAE"
      }
    },
    {
      "cell_type": "code",
      "source": [
        "# 6.a)\n",
        "if 1 == 1:\n",
        "    print(\"hola\")"
      ],
      "metadata": {
        "colab": {
          "base_uri": "https://localhost:8080/"
        },
        "id": "G4bYNL7B8Wme",
        "outputId": "77ca36b1-e286-49ab-e7d7-f20c5075663d"
      },
      "execution_count": 18,
      "outputs": [
        {
          "output_type": "stream",
          "name": "stdout",
          "text": [
            "hola\n"
          ]
        }
      ]
    },
    {
      "cell_type": "markdown",
      "source": [
        "## **Ejercicio 7)** Practicando con listas\n",
        "\n",
        "**a)** Cree una lista con las siguientes strings `\"perro\"`, `\"gato\"`, `\"loro\"`, `\"caballo\"` y `\"llama\"`. Guardela en una variable llamada `animales`.\n",
        "\n",
        "**b)** Acceda al 3er elemento de la lista.\n",
        "\n",
        "**c)** Use slicing para acceder a los primeros 3 elementos de la lista.\n",
        "\n",
        "**d)** Use slicing para acceder a los últimos 3 elementos de la lista.\n",
        "\n",
        "**e)** Use slicing para acceder a los 3 elementos de la lista contando desde el segundo.\n",
        "\n",
        "**f)** Use *list comprehension* para generar una lista con los animales que posean una letra `l` en su nombre.\n",
        "\n",
        "**g)** Cree una lista con los números del 1 al 10, asignándola a una variable `a`.\n",
        "\n",
        "**h)** Modifique la entrada `a[5]`, asignandole el nuevo valor `\"hola\"`. Luego, evalúe `a`.\n",
        "\n",
        "**i)** Modifique las entradas `a[2:6]` con los valores de la lista `[\"perro\", \"gato\",\"loro\",\"caballo\"]`. Luego, evalúe `a`."
      ],
      "metadata": {
        "id": "8A3sq4Qm8_4T"
      }
    },
    {
      "cell_type": "code",
      "source": [
        "# 7.a)\n",
        "animales = [\"perro\",\"gato\",\"loro\",\"caballo\",\"llama\"]\n",
        "animales[2] #imprime el 3er elemento\n",
        "animales[0:3] #slicing, primeros 3 elementos\n",
        "animales[1:len(animales)-1] #slicing, desde el segundo\n",
        "#f, list compreshion?\n",
        "#g. a = [i]\n"
      ],
      "metadata": {
        "id": "7OX-mL5606x1",
        "colab": {
          "base_uri": "https://localhost:8080/"
        },
        "outputId": "55a3efca-d13e-4a71-8a81-4c604ad88c30"
      },
      "execution_count": 45,
      "outputs": [
        {
          "output_type": "execute_result",
          "data": {
            "text/plain": [
              "[10]"
            ]
          },
          "metadata": {},
          "execution_count": 45
        }
      ]
    },
    {
      "cell_type": "markdown",
      "source": [
        "## **Ejercicio 8)** Practicando con tuplas\n",
        "\n",
        "**a)** Determine si la tupla `(1,2,3)` es igual a si misma.\n",
        "\n",
        "**b)** Determine si la tupla `(1,2,3)` es igual a la tupla `(1,2,3,4)`.\n",
        "\n",
        "**c)** Inicialize una variable `t` con una tupla `(1,2,3)`. Luego, evalúe `t[0]`, `t[1]`, `t[2]` y `t[3]`.\n",
        "\n",
        "**d)** Intente modificar el valor de `t[0]`.\n",
        "\n",
        "**e)** Determine si la tupla `(1,2,3)` es igual a la lista `[1,2,3]`.\n",
        "\n",
        "**f)** Inicialize las variables `x`, `y` y `z` asignando la tupla `\"hola\",\"mundo\",100`. Evalúe `x`, `y` y `z`."
      ],
      "metadata": {
        "id": "0y2VKhA2oijd"
      }
    },
    {
      "cell_type": "code",
      "source": [
        "# 8.a)\n",
        "(1,2,3) == (1,2,3)\n",
        "t = (1,2,3)\n",
        "t[2]\n",
        "t == [1,2,3]\n",
        "x, y, z = \"hola\", \"mundo\", 100\n",
        "a = x, y, z\n",
        "type(a)"
      ],
      "metadata": {
        "colab": {
          "base_uri": "https://localhost:8080/"
        },
        "id": "smLKfDhZLUBJ",
        "outputId": "bb3673d1-5300-49b4-cc0d-ffaf95662576"
      },
      "execution_count": 55,
      "outputs": [
        {
          "output_type": "execute_result",
          "data": {
            "text/plain": [
              "tuple"
            ]
          },
          "metadata": {},
          "execution_count": 55
        }
      ]
    },
    {
      "cell_type": "markdown",
      "source": [
        "## **Ejercicio 9)** Practicando con loops\n",
        "\n",
        "**a)** Implemente un loop usando la instrucción `for` que imprima los números pares desde el 0 hasta el 10.\n",
        "\n",
        "**b)** *Conjetura de Collatz:* Implemente un loop usando la instrucción `while` calcule la iteración\n",
        "\n",
        "\\begin{equation}\n",
        "n_{t+1} = f(n_t)\n",
        "\\end{equation}\n",
        "\n",
        "donde $f(n) = n/2$ si $n$ es par y $f(n)=3n+1$ si $n$ es impar, partiendo de $n_0=10$. El loop debe detenerse cuando se cumple la condición $n_t=1$ para algún $t$. Que observa? Comente. Cuantas iteraciones (valor de $t$) realiza el loop?\n",
        "\n",
        "**c)** Use `for` para iterar sobre la lista `[\"perro\",\"gato\",\"loro\",\"caballo\",\"llama\"]`, imprimiendo los cada item en cada iteración."
      ],
      "metadata": {
        "id": "e5ddPvOF9KdG"
      }
    },
    {
      "cell_type": "code",
      "source": [
        "# 9.a)\n",
        "for i in range(11):\n",
        "    if i%2==0:\n",
        "      print(i)"
      ],
      "metadata": {
        "colab": {
          "base_uri": "https://localhost:8080/"
        },
        "id": "Gd2RahNG5NUT",
        "outputId": "7a1491bc-cb39-4dd5-9122-a0d1ee17fe34"
      },
      "execution_count": 21,
      "outputs": [
        {
          "output_type": "stream",
          "name": "stdout",
          "text": [
            "0\n",
            "2\n",
            "4\n",
            "6\n",
            "8\n",
            "10\n"
          ]
        }
      ]
    },
    {
      "cell_type": "code",
      "source": [
        "# 9.b)\n",
        "while "
      ],
      "metadata": {
        "id": "iVbb8kUkTHT8"
      },
      "execution_count": null,
      "outputs": []
    },
    {
      "cell_type": "markdown",
      "source": [
        "## **Ejercicio 10)** Definiendo y evaluando funciones\n",
        "\n",
        "**a)** Implemente una función llamada `suma` que retorne la sume dos números. Testeela.\n",
        "\n",
        "**b)** Implemente una función llamada `opcional` que adopte dos parámetros de entrada, y que el segundo de ellos sea opcional con un valor por defecto igual a 1. La función debe retornar la resta de ambos números. Testeela.\n",
        "\n",
        "**c)** Implemente una función llamada `fact` que calcule y retorne el factorial de un número `n` si es que `n` es natural o zero. En caso contrario, que imprima el mensaje \"El número n no es un entero no negativo.\" y retorne `None`. Testeela."
      ],
      "metadata": {
        "id": "2iSXiPew9XOZ"
      }
    },
    {
      "cell_type": "code",
      "source": [
        "# 10.a)\n",
        "def suma(x,y):\n",
        "    return x+y\n",
        "suma(1,2)"
      ],
      "metadata": {
        "colab": {
          "base_uri": "https://localhost:8080/"
        },
        "id": "IWQiVNIk3i81",
        "outputId": "f7921830-2194-4bc8-f9f5-9f742db83074"
      },
      "execution_count": 22,
      "outputs": [
        {
          "output_type": "execute_result",
          "data": {
            "text/plain": [
              "3"
            ]
          },
          "metadata": {},
          "execution_count": 22
        }
      ]
    },
    {
      "cell_type": "markdown",
      "source": [
        "## **Ejercicio 11)** Practicando con arrays\n",
        "\n",
        "**a)** Inicialize un array de enteros a partir de la lista `[1,2,3]`. Llamelo `b`.\n",
        "\n",
        "**b)** Inicialize un array 2-dimensional a partir de las listas anidadas `[[1,2,3],[4,5,6],[7,8,9]]`. Llamelo `a`.\n",
        "\n",
        "**c)** Acceda a la entrada de la fila $i=1$ y la columna $j=2$ del array `a`.\n",
        "\n",
        "**d)** Inicialice un array de 10 valores 0 en representacón flotante de 64 bits.\n",
        "\n",
        "**e)** Inicialice un array de 10 valores 3.14 en representacón flotante de 32 bits."
      ],
      "metadata": {
        "id": "Adc_7Ee29EpE"
      }
    },
    {
      "cell_type": "code",
      "source": [
        "# 11.a)\n",
        "b = np.array([1,2,3])\n",
        "b"
      ],
      "metadata": {
        "id": "FiR0OpNq05pa",
        "colab": {
          "base_uri": "https://localhost:8080/"
        },
        "outputId": "fb34afd4-dea1-4264-a104-df0f0dbbf26d"
      },
      "execution_count": 23,
      "outputs": [
        {
          "output_type": "execute_result",
          "data": {
            "text/plain": [
              "array([1, 2, 3])"
            ]
          },
          "metadata": {},
          "execution_count": 23
        }
      ]
    },
    {
      "cell_type": "markdown",
      "source": [
        "## **Ejercicio 12)** Practicando con clases\n",
        "\n",
        "**a)** Defina una clase llamada `MiClase` que posea una variable miembro llamada `nombre`. El inicializador `__init__()` de la clase debe poseer un argumento opcional, que debe usarse para inicializar el valor de la variable miembro `nombre` con el valor por defecto `\"mi clase\"`.\n",
        "\n",
        "**b)** Agregue a la clase la función miembro `__str__()` que retorne el valor de la variable miembro `nombre`.\n",
        "\n",
        "**c)** Cree un objeto de la clase en cuestión y de nombre `mi_objeto`, y testee la función `__str__()` evaluando la expresión `str(mi_objeto)`.\n",
        "\n",
        "**d)** Agregue a la clase la función `__len__()` que retorne el largo de la variable miembro `nombre`. Testee dicha función.\n",
        "\n",
        "**e)** Agregue a la clase una función miembro llamada `cambiar_nombre` que sirva para cambiar el valor de la variable miembro `nombre`. Testee dicha función."
      ],
      "metadata": {
        "id": "bmHmMiAboqzs"
      }
    },
    {
      "cell_type": "code",
      "source": [
        "# 11.a)\n",
        "class MiClase:\n",
        "    def __init__(self,nombre=\"mi clase\"):\n",
        "        self.nombre = nombre"
      ],
      "metadata": {
        "id": "P9PC2JGvqWSU"
      },
      "execution_count": 24,
      "outputs": []
    },
    {
      "cell_type": "markdown",
      "source": [
        "## **Ejercicio 13)** Graficando\n",
        "\n",
        "**a)** Utilice `np.linspace` para generar un array de 100 valores equidistantes entre 0 y 5. Almacene el array en una variable `valores_x`.\n",
        "\n",
        "**b)** Calcule el array llamado `valores_y1` de valores `np.cos(x)` para cada `x` en `valores_x`.\n",
        "\n",
        "**c)** Calcule el array llamado `valores_y2` de valores `np.sin(x)` para cada `x` en `valores_x`.\n",
        "\n",
        "**d)** Use estos arrays para graficar, con curvas, las funciones $\\cos(x)$ y $\\sin(x)$ en el rango $[0,5]$. Use una línea contínua para el coseno y una punteada para el seno.\n",
        "\n",
        "**e)** Acomode el gráfico: agregue etiquetas a los ejes y a las curvas. Modifique los límites del área graficada para que se vean correctamente las curvas. Agregue un título a la figura."
      ],
      "metadata": {
        "id": "W4HxPu2-9Q68"
      }
    },
    {
      "cell_type": "code",
      "source": [
        "# 13.a)\n",
        "plt.xlabel('$x$')\n",
        "plt.xlim(-0.1,5.1)\n",
        "#plt.ylim(-0.1,1.1)\n",
        "valores_x=np.linspace(0,5,100)\n",
        "valores_y1=np.cos(valores_x)\n",
        "plt.plot(valores_x,valores_y1,label=\"$\\cos(x)$\",linestyle='-',c='red')\n",
        "plt.title('Mi primer plot')\n",
        "plt.legend()"
      ],
      "metadata": {
        "id": "uasToO-NrDJH",
        "colab": {
          "base_uri": "https://localhost:8080/",
          "height": 108
        },
        "outputId": "d65770fe-adc6-4015-bbdc-085aaaa23ab2"
      },
      "execution_count": 25,
      "outputs": [
        {
          "output_type": "execute_result",
          "data": {
            "text/plain": [
              "<matplotlib.legend.Legend at 0x7f8aba550760>"
            ]
          },
          "metadata": {},
          "execution_count": 25
        },
        {
          "output_type": "display_data",
          "data": {
            "text/plain": [
              "<Figure size 640x480 with 1 Axes>"
            ],
            "image/png": "[encoded data removed]"
          },
          "metadata": {}
        }
      ]
    }
  ]
}